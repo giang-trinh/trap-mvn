{
 "cells": [
  {
   "cell_type": "code",
   "execution_count": 2,
   "id": "f89e9673-9881-4d82-923e-51b15a91f9f5",
   "metadata": {},
   "outputs": [],
   "source": [
    "import subprocess\n",
    "import os\n",
    "import time\n",
    "import csv\n",
    "\n",
    "TIMEOUT = 120\n",
    "REPETITIONS = 5\n",
    "ENUMERATION_LIMIT = 1000"
   ]
  },
  {
   "cell_type": "code",
   "execution_count": 3,
   "id": "7ff279b1-7427-4d4b-b9bb-307cdf802a1b",
   "metadata": {},
   "outputs": [],
   "source": [
    "# Runs trapmvn with either unitary or general update scheme,\n",
    "# reporting the runtime, number of fails, and the number of results.\n",
    "def bench_trapmvn(model, semantics = \"general\"):\n",
    "    cmd_trapmvn = [\"python3\", \"-m\", \"trapmvn\", \"-c\", \"max\", \"-s\", semantics, \"-m\", str(ENUMERATION_LIMIT), model]\n",
    "    total_time = 0\n",
    "    fails = 0\n",
    "    result_count = 0    \n",
    "    for _i in range(REPETITIONS):\n",
    "        try:\n",
    "            start = time.perf_counter()\n",
    "            result = subprocess.run(cmd_trapmvn, capture_output=True, timeout=TIMEOUT)\n",
    "            total_time += time.perf_counter() - start\n",
    "            result_count = len(result.stdout.splitlines()) - 1\n",
    "            if result.returncode != 0:\n",
    "                fails += 1\n",
    "        except subprocess.TimeoutExpired:\n",
    "            total_time += TIMEOUT\n",
    "            fails += 1\n",
    "    return (float(total_time) / float(REPETITIONS), fails, result_count)"
   ]
  },
  {
   "cell_type": "code",
   "execution_count": 4,
   "id": "b26ab852-475a-47a3-b1ae-1af4c8a15539",
   "metadata": {},
   "outputs": [
    {
     "name": "stdout",
     "output_type": "stream",
     "text": [
      "['Model', 'trapmvn (general)', 'trapmvn (unitary)']\n",
      "['146_BUDDING-YEAST-FAURE-2009.sbml', '(1.4433969443663954, 0, 12)', '(1.246937102265656, 0, 10)']\n",
      "['148_AGS-cell-fate-decision.sbml', '(0.11210814081132411, 0, 11)', '(0.10999473575502634, 0, 11)']\n",
      "['151_TCR-REDOX-METABOLISM.sbml', '(0.30786582324653866, 0, 6)', '(0.2564804984256625, 0, 6)']\n",
      "['155_CONTROL-OF-TH1-TH2-TH17-TREG-DIFFERENTATION.sbml', '(0.11187891066074371, 0, 42)', '(0.10835150461643935, 0, 42)']\n",
      "['157_CONTROL-OF-TH-DIFFERENTATION.sbml', '(0.13460688143968583, 0, 63)', '(0.14557357970625162, 0, 63)']\n",
      "['159_BUDDING-YEAST-CORE.sbml', '(0.5875140024349094, 0, 10)', '(0.5878027880564332, 0, 8)']\n",
      "['160_IL17-DIFFERENTIAL-EXPRESSION.sbml', '(0.1391521215438843, 0, 30)', '(0.13603760544210672, 0, 30)']\n",
      "['161_DIFFERENTIATION-OF-MONOCYTES.sbml', '(0.11826782543212175, 0, 4)', '(0.11869635600596666, 0, 4)']\n",
      "['167_DROSOPHILA-MESODERM.sbml', '(0.11922557689249516, 0, 29)', '(0.10552985426038504, 0, 29)']\n",
      "['175_SEA-URCHIN.sbml', '(0.09460586160421372, 0, 22)', '(0.0920876557007432, 0, 20)']\n",
      "['176-myelofibrotic-microenvironment.sbml', '(0.10427285321056842, 0, 7)', '(0.10018534194678068, 0, 7)']\n",
      "['178-mast-cell-activation.sbml', '(0.08111293222755193, 0, 8)', '(0.08118211831897497, 0, 8)']\n",
      "['179-microenvironment-control.sbml', '(0.11258032452315092, 0, 20)', '(0.10992960929870606, 0, 20)']\n",
      "['183-alterations-in-bladder.sbml', '(0.08912077434360981, 0, 8)', '(0.089604970254004, 0, 8)']\n",
      "['190-BRAF-treatment-response.sbml', '(0.08113747052848339, 0, 10)', '(0.08168010897934437, 0, 10)']\n",
      "['192-segment-polarity-6-cell.sbml', '(0.24602545220404864, 0, 70)', '(0.22654642574489117, 0, 74)']\n",
      "['194-vulvar-precursor-cells.sbml', '(0.1635302733629942, 0, 35)', '(0.15167396664619445, 0, 35)']\n",
      "['195-CTLA4-PD1-checkpoint-inhibitors.sbml', '(0.2564351471140981, 0, 75)', '(0.24619498923420907, 0, 75)']\n",
      "['196-T-lymphocyte-specification.sbml', '(0.11711461301892996, 0, 10)', '(0.11422799732536078, 0, 10)']\n",
      "['197-anterior-posterior-boundary.sbml', '(0.24892133716493844, 0, 9)', '(0.1959141742438078, 0, 8)']\n",
      "['InVitro.free-inputs.sbml', '(120.0, 5, 0)', '(43.15257612708956, 0, 27)']\n",
      "['InVivo.free-inputs.sbml', '(120.0, 5, 0)', '(43.1169452469796, 0, 21)']\n",
      "['Leukaemia.free-inputs.sbml', '(0.5132649160921574, 0, 35)', '(0.3723642921075225, 0, 31)']\n",
      "['Metabolism_demo.free-inputs.sbml', '(76.35261839535087, 0, 96)', '(16.083820954337718, 0, 65)']\n",
      "['SkinModel.free-inputs.sbml', '(5.296141509898007, 0, 78)', '(2.482196426950395, 0, 62)']\n",
      "['VPC.free-inputs.sbml', '(0.8745388619601726, 0, 38)', '(0.6432625826448202, 0, 34)']\n"
     ]
    }
   ],
   "source": [
    "# For maximal trap spaces, we can only test trapmvn and nothing else.\n",
    "# But we can still test general/unitary semantics.\n",
    "with open('max-trap-benchmark.tsv', 'w') as csvfile:\n",
    "    writer = csv.writer(csvfile, delimiter='\\t')\n",
    "    \n",
    "    header = [\"Model\"]\n",
    "    header += [\"trapmvn (general)\", \"trapmvn (unitary)\"]\n",
    "    writer.writerow(header)\n",
    "    print(header)\n",
    "    \n",
    "    for model in sorted(os.listdir(\"models\")):\n",
    "        if not model.endswith(\".sbml\"):\n",
    "            continue\n",
    "        \n",
    "        row = [model]\n",
    "        model = f\"models/{model}\"\n",
    "        # Fixed points are shared across semantics.\n",
    "        trapmvn_general = bench_trapmvn(model, semantics=\"general\")\n",
    "        trapmvn_unitary = bench_trapmvn(model, semantics=\"unitary\")        \n",
    "        row += [str(trapmvn_general), str(trapmvn_unitary)]\n",
    "        print(row)\n",
    "        \n",
    "        writer.writerow(row)\n",
    "        csvfile.flush()"
   ]
  },
  {
   "cell_type": "code",
   "execution_count": null,
   "id": "092d574c-2f4d-4f9f-9a64-d7d823e99a35",
   "metadata": {},
   "outputs": [],
   "source": []
  }
 ],
 "metadata": {
  "kernelspec": {
   "display_name": "Python 3 (ipykernel)",
   "language": "python",
   "name": "python3"
  },
  "language_info": {
   "codemirror_mode": {
    "name": "ipython",
    "version": 3
   },
   "file_extension": ".py",
   "mimetype": "text/x-python",
   "name": "python",
   "nbconvert_exporter": "python",
   "pygments_lexer": "ipython3",
   "version": "3.10.6"
  }
 },
 "nbformat": 4,
 "nbformat_minor": 5
}
