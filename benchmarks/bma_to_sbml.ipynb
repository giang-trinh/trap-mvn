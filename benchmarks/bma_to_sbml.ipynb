{
 "cells": [
  {
   "cell_type": "markdown",
   "id": "83e9e0ff-149d-46df-9784-1fbf7b157a9b",
   "metadata": {},
   "source": [
    "## BMA to SBML conversion\n",
    "\n",
    "Not all tools in our testing support both BMA and SBML. As such, we first \n",
    "convert all BMA models to equivalent SBML models. Since the two formats\n",
    "use very different representation of update functions, the conversion is \n",
    "facilitated using an intermediate symbolic representation."
   ]
  },
  {
   "cell_type": "code",
   "execution_count": 2,
   "id": "22639173-4156-42a7-a0dc-1f20fe88f569",
   "metadata": {},
   "outputs": [],
   "source": [
    "from trapmvn.representation.symbolic import Symbolic_Model\n",
    "from trapmvn.representation.bma import BMA_Model\n",
    "from trapmvn.representation.sbml import SBML_Model\n",
    "from pathlib import Path\n",
    "import os"
   ]
  },
  {
   "cell_type": "code",
   "execution_count": 11,
   "id": "43194a58-8b06-4deb-be46-8f51810ac2c4",
   "metadata": {},
   "outputs": [
    {
     "name": "stdout",
     "output_type": "stream",
     "text": [
      "Converted `InVitro.free-inputs.json` to `InVitro.free-inputs.sbml`.\n",
      "Converted `InVivo.free-inputs.json` to `InVivo.free-inputs.sbml`.\n",
      "Converted `Leukaemia.free-inputs.json` to `Leukaemia.free-inputs.sbml`.\n",
      "Converted `Metabolism_demo.free-inputs.json` to `Metabolism_demo.free-inputs.sbml`.\n",
      "Converted `SkinModel.free-inputs.json` to `SkinModel.free-inputs.sbml`.\n",
      "Converted `VPC.free-inputs.json` to `VPC.free-inputs.sbml`.\n"
     ]
    }
   ],
   "source": [
    "for model_path in os.listdir(\"models\"):\n",
    "    if model_path.endswith(\".json\"):\n",
    "        bma_model = BMA_Model.from_json_file(f\"./models/{model_path}\")\n",
    "        symbolic_model = Symbolic_Model.from_bma(bma_model)\n",
    "        sbml_model = symbolic_model.to_sbml()\n",
    "        new_path = model_path.replace('json', 'sbml')\n",
    "        sbml_model.to_file(f\"./models/{new_path}\")\n",
    "        print(f\"Converted `{model_path}` to `{new_path}`.\")"
   ]
  }
 ],
 "metadata": {
  "kernelspec": {
   "display_name": "Python 3 (ipykernel)",
   "language": "python",
   "name": "python3"
  },
  "language_info": {
   "codemirror_mode": {
    "name": "ipython",
    "version": 3
   },
   "file_extension": ".py",
   "mimetype": "text/x-python",
   "name": "python",
   "nbconvert_exporter": "python",
   "pygments_lexer": "ipython3",
   "version": "3.10.6"
  }
 },
 "nbformat": 4,
 "nbformat_minor": 5
}
