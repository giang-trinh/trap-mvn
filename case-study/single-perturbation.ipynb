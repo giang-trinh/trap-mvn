{
 "cells": [
  {
   "cell_type": "markdown",
   "id": "1a4a2c08-6222-4700-8304-5500f2a6444d",
   "metadata": {},
   "source": [
    "# Single perturbations\n",
    "\n",
    "In this notebook, we explore the effects of single-node perturbations on the behaviour of the in vivo model.\n",
    "\n",
    "Specifically, we:\n",
    " 1. Build the petri net encoding of the model.\n",
    " 2. Generate knockouts for druggable interventions.\n",
    " 3. Test each intervention on all 5 model types.\n",
    " 4. Export apoptosis/proliferation values from results."
   ]
  },
  {
   "cell_type": "code",
   "execution_count": 1,
   "id": "043278c1-9de6-4259-a7e6-cc7e5278c6e5",
   "metadata": {},
   "outputs": [],
   "source": [
    "from trapmvn.core import trapmvn\n",
    "from trapmvn.representation.bma import BMA_Model\n",
    "from trapmvn.representation.symbolic import Symbolic_Model\n",
    "from trapmvn.representation.petri_net import Petri_Net\n",
    "from pathlib import Path\n",
    "import csv\n",
    "import sys\n",
    "\n",
    "MODEL_TYPE = [\"healthy\", \"myc-low\", \"mixed-myc-low\", \"mixed-myc-high\", \"myc-high\"]\n",
    "\n",
    "DRUGGABLE_PROLIFERATION = Path(\"druggable.proliferation.txt\").read_text().split(\",\")\n",
    "DRUGGABLE_APOPTOSIS = Path(\"druggable.apoptosis.txt\").read_text().split(\",\")\n",
    "\n",
    "# These lists should be equivalent, they are just ordered differently\n",
    "# to mirror the result from the original paper.\n",
    "assert set(DRUGGABLE_APOPTOSIS) == set(DRUGGABLE_PROLIFERATION)\n",
    "DRUGGABLE = sorted(DRUGGABLE_APOPTOSIS)"
   ]
  },
  {
   "cell_type": "code",
   "execution_count": 2,
   "id": "5b40478b-4b23-43bf-b22e-e5b59bb84451",
   "metadata": {},
   "outputs": [],
   "source": [
    "models = {}\n",
    "\n",
    "for model_type in MODEL_TYPE:\n",
    "    models[model_type] = BMA_Model.from_json_file(f\"./models/in_vivo.{model_type}.json\")\n",
    "    \n",
    "variables = sorted(next(iter(models.values())).variables.keys())"
   ]
  },
  {
   "cell_type": "code",
   "execution_count": 3,
   "id": "2a3f4655-9713-48fa-b50e-4bbc37d99440",
   "metadata": {},
   "outputs": [
    {
     "name": "stdout",
     "output_type": "stream",
     "text": [
      "Translated healthy.\n",
      "Translated myc-low.\n",
      "Translated mixed-myc-low.\n",
      "Translated mixed-myc-high.\n",
      "Translated myc-high.\n"
     ]
    }
   ],
   "source": [
    "petri_nets = {}\n",
    "\n",
    "# This should take a few seconds, since the models aren't exactly small.\n",
    "for model_type, model in models.items():\n",
    "    symbolic_model = Symbolic_Model.from_bma(model)\n",
    "    petri_nets[model_type] = Petri_Net.build(symbolic_model, unitary=True)\n",
    "    print(f\"Translated {model_type}.\")\n",
    "    sys.stdout.flush()"
   ]
  },
  {
   "cell_type": "code",
   "execution_count": 4,
   "id": "5a1e184d-5e69-4b78-83ad-3d472dd00b3a",
   "metadata": {},
   "outputs": [
    {
     "name": "stdout",
     "output_type": "stream",
     "text": [
      "Computing ... 1/50\n",
      "Computing ... 2/50\n",
      "Computing ... 3/50\n",
      "Computing ... 4/50\n",
      "Computing ... 5/50\n",
      "Computing ... 6/50\n",
      "Computing ... 7/50\n",
      "Computing ... 8/50\n",
      "Computing ... 9/50\n",
      "Computing ... 10/50\n",
      "Computing ... 11/50\n",
      "Computing ... 12/50\n",
      "Computing ... 13/50\n",
      "Computing ... 14/50\n",
      "Computing ... 15/50\n",
      "Computing ... 16/50\n",
      "Computing ... 17/50\n",
      "Computing ... 18/50\n",
      "Computing ... 19/50\n",
      "Computing ... 20/50\n",
      "Computing ... 21/50\n",
      "Computing ... 22/50\n",
      "Computing ... 23/50\n",
      "Computing ... 24/50\n",
      "Computing ... 25/50\n",
      "Computing ... 26/50\n",
      "Computing ... 27/50\n",
      "Computing ... 28/50\n",
      "Computing ... 29/50\n",
      "Computing ... 30/50\n",
      "Computing ... 31/50\n",
      "Computing ... 32/50\n",
      "Computing ... 33/50\n",
      "Computing ... 34/50\n",
      "Computing ... 35/50\n",
      "Computing ... 36/50\n",
      "Computing ... 37/50\n",
      "Computing ... 38/50\n",
      "Computing ... 39/50\n",
      "Computing ... 40/50\n",
      "Computing ... 41/50\n",
      "Computing ... 42/50\n",
      "Computing ... 43/50\n",
      "Computing ... 44/50\n",
      "Computing ... 45/50\n",
      "Computing ... 46/50\n",
      "Computing ... 47/50\n",
      "Computing ... 48/50\n",
      "Computing ... 49/50\n",
      "Computing ... 50/50\n"
     ]
    }
   ],
   "source": [
    "# Here, we compute the perturbation results for all model types.\n",
    "# Note that this process can take several hours.\n",
    "\n",
    "intervention_results = {}\n",
    "with open('single-perturbation.tsv', 'w') as csvfile:\n",
    "    writer = csv.writer(csvfile, delimiter='\\t')\n",
    "    \n",
    "    header = [\"Intervention\", \"Model\"] + variables\n",
    "    writer.writerow(header)\n",
    "    \n",
    "    for i, intervention in enumerate(DRUGGABLE):\n",
    "        intervention_results[intervention] = {}\n",
    "        print(f\"Computing ... {i+1}/{len(DRUGGABLE)}\")\n",
    "        sys.stdout.flush()\n",
    "        for model_type in MODEL_TYPE:\n",
    "            pn = petri_nets[model_type].knockout(intervention)\n",
    "            trap = trapmvn(pn, None)\n",
    "            assert len(trap) == 1\n",
    "            trap = trap[0]\n",
    "            intervention_results[intervention][model_type] = trap\n",
    "            row = [intervention, model_type] + [ str(trap[x]) for x in variables ]\n",
    "            writer.writerow(row)\n",
    "            csvfile.flush()"
   ]
  },
  {
   "cell_type": "code",
   "execution_count": 7,
   "id": "6a0435dd-dfa4-4413-bf22-1ee9e01b2c63",
   "metadata": {},
   "outputs": [],
   "source": [
    "# Alternatively, we can just load the results from \n",
    "# a file that we saved before.\n",
    "\n",
    "intervention_results = { intervention:{} for intervention in DRUGGABLE }\n",
    "with open('single-perturbation.tsv') as csvfile:\n",
    "    reader = csv.reader(csvfile, delimiter='\\t')\n",
    "    next(reader) # Skip header\n",
    "    for row in reader:\n",
    "        intervention = row[0]\n",
    "        model_type = row[1]\n",
    "        trap = { var: row[i+2] for i, var in enumerate(variables) }\n",
    "        intervention_results[intervention][model_type] = trap"
   ]
  },
  {
   "cell_type": "code",
   "execution_count": 10,
   "id": "641c86e8-d2ca-40fe-a10a-3f27bcc76564",
   "metadata": {},
   "outputs": [],
   "source": [
    "## Now, we can produce the proliferation and apoptosis tables:\n",
    "\n",
    "with open('proliferation-table.tsv', 'w') as csvfile:\n",
    "    writer = csv.writer(csvfile, delimiter='\\t')\n",
    "    \n",
    "    header = [\"Intervention\"] + MODEL_TYPE\n",
    "    writer.writerow(header)\n",
    "    \n",
    "    for intervention in DRUGGABLE_PROLIFERATION:\n",
    "        row = [intervention_results[intervention][model_type]['Proliferation_id47'] for model_type in MODEL_TYPE]\n",
    "        writer.writerow([intervention] + row)\n",
    "        \n",
    "with open('apoptosis-table.tsv', 'w') as csvfile:\n",
    "    writer = csv.writer(csvfile, delimiter='\\t')\n",
    "    \n",
    "    header = [\"Intervention\"] + MODEL_TYPE\n",
    "    writer.writerow(header)\n",
    "    \n",
    "    for intervention in DRUGGABLE_APOPTOSIS:\n",
    "        row = [intervention_results[intervention][model_type]['Apoptosis_id316'] for model_type in MODEL_TYPE]\n",
    "        writer.writerow([intervention] + row)"
   ]
  },
  {
   "cell_type": "code",
   "execution_count": null,
   "id": "66bc3eed-3a91-44bf-a8fb-bea9136417f3",
   "metadata": {},
   "outputs": [],
   "source": []
  }
 ],
 "metadata": {
  "kernelspec": {
   "display_name": "Python 3 (ipykernel)",
   "language": "python",
   "name": "python3"
  },
  "language_info": {
   "codemirror_mode": {
    "name": "ipython",
    "version": 3
   },
   "file_extension": ".py",
   "mimetype": "text/x-python",
   "name": "python",
   "nbconvert_exporter": "python",
   "pygments_lexer": "ipython3",
   "version": "3.10.6"
  }
 },
 "nbformat": 4,
 "nbformat_minor": 5
}
